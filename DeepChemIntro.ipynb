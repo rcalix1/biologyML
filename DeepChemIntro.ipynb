{
 "cells": [
  {
   "cell_type": "markdown",
   "id": "da32a8e4",
   "metadata": {},
   "source": [
    "## DeepChem Intro"
   ]
  },
  {
   "cell_type": "code",
   "execution_count": 20,
   "id": "6ded5160",
   "metadata": {},
   "outputs": [
    {
     "name": "stdout",
     "output_type": "stream",
     "text": [
      "Requirement already satisfied: deepchem in /Users/user/opt/anaconda3/envs/biologyML_py38/lib/python3.8/site-packages (2.6.1)\n",
      "Requirement already satisfied: pandas in /Users/user/opt/anaconda3/envs/biologyML_py38/lib/python3.8/site-packages (from deepchem) (1.5.0)\n",
      "Requirement already satisfied: joblib in /Users/user/opt/anaconda3/envs/biologyML_py38/lib/python3.8/site-packages (from deepchem) (1.2.0)\n",
      "Requirement already satisfied: numpy>=1.21 in /Users/user/opt/anaconda3/envs/biologyML_py38/lib/python3.8/site-packages (from deepchem) (1.23.3)\n",
      "Requirement already satisfied: scipy in /Users/user/opt/anaconda3/envs/biologyML_py38/lib/python3.8/site-packages (from deepchem) (1.9.2)\n",
      "Requirement already satisfied: scikit-learn in /Users/user/opt/anaconda3/envs/biologyML_py38/lib/python3.8/site-packages (from deepchem) (1.1.2)\n",
      "Requirement already satisfied: rdkit-pypi in /Users/user/opt/anaconda3/envs/biologyML_py38/lib/python3.8/site-packages (from deepchem) (2022.3.5)\n",
      "Requirement already satisfied: pytz>=2020.1 in /Users/user/opt/anaconda3/envs/biologyML_py38/lib/python3.8/site-packages (from pandas->deepchem) (2022.4)\n",
      "Requirement already satisfied: python-dateutil>=2.8.1 in /Users/user/opt/anaconda3/envs/biologyML_py38/lib/python3.8/site-packages (from pandas->deepchem) (2.8.2)\n",
      "Requirement already satisfied: Pillow in /Users/user/opt/anaconda3/envs/biologyML_py38/lib/python3.8/site-packages (from rdkit-pypi->deepchem) (9.2.0)\n",
      "Requirement already satisfied: threadpoolctl>=2.0.0 in /Users/user/opt/anaconda3/envs/biologyML_py38/lib/python3.8/site-packages (from scikit-learn->deepchem) (3.1.0)\n",
      "Requirement already satisfied: six>=1.5 in /Users/user/opt/anaconda3/envs/biologyML_py38/lib/python3.8/site-packages (from python-dateutil>=2.8.1->pandas->deepchem) (1.16.0)\n"
     ]
    }
   ],
   "source": [
    "!pip install --pre deepchem\n",
    "##!pip install --pre deepchem[torch]"
   ]
  },
  {
   "cell_type": "code",
   "execution_count": 21,
   "id": "43568da3",
   "metadata": {},
   "outputs": [],
   "source": [
    "import torch\n",
    "import deepchem as dc\n",
    "import numpy as np"
   ]
  },
  {
   "cell_type": "code",
   "execution_count": 22,
   "id": "cd2c79c2",
   "metadata": {},
   "outputs": [
    {
     "data": {
      "text/plain": [
       "'2.6.1'"
      ]
     },
     "execution_count": 22,
     "metadata": {},
     "output_type": "execute_result"
    }
   ],
   "source": [
    "\n",
    "dc.__version__"
   ]
  },
  {
   "cell_type": "code",
   "execution_count": 23,
   "id": "140e4213",
   "metadata": {},
   "outputs": [],
   "source": [
    "x = np.random.random((4, 5))\n",
    "y = np.random.random((4, 1))"
   ]
  },
  {
   "cell_type": "code",
   "execution_count": 24,
   "id": "99fe1051",
   "metadata": {},
   "outputs": [
    {
     "data": {
      "text/plain": [
       "array([[0.08622397, 0.38120865, 0.05747635, 0.60519003, 0.95423576],\n",
       "       [0.1995458 , 0.57120083, 0.38771397, 0.00647331, 0.30784863],\n",
       "       [0.78439844, 0.90280702, 0.69727107, 0.33270014, 0.8657816 ],\n",
       "       [0.58786339, 0.68613304, 0.23674202, 0.64928248, 0.09668482]])"
      ]
     },
     "execution_count": 24,
     "metadata": {},
     "output_type": "execute_result"
    }
   ],
   "source": [
    "x"
   ]
  },
  {
   "cell_type": "code",
   "execution_count": 25,
   "id": "8c22a5c0",
   "metadata": {},
   "outputs": [
    {
     "data": {
      "text/plain": [
       "array([[0.50134331],\n",
       "       [0.63309814],\n",
       "       [0.16663672],\n",
       "       [0.61268194]])"
      ]
     },
     "execution_count": 25,
     "metadata": {},
     "output_type": "execute_result"
    }
   ],
   "source": [
    "y"
   ]
  },
  {
   "cell_type": "markdown",
   "id": "fbb538f5",
   "metadata": {},
   "source": [
    "## Wrap in arrays in NumpyDataset"
   ]
  },
  {
   "cell_type": "code",
   "execution_count": 26,
   "id": "f8e4494c",
   "metadata": {},
   "outputs": [],
   "source": [
    "dataset = dc.data.NumpyDataset(x, y)"
   ]
  },
  {
   "cell_type": "code",
   "execution_count": 27,
   "id": "270b6aac",
   "metadata": {},
   "outputs": [
    {
     "name": "stdout",
     "output_type": "stream",
     "text": [
      "[[0.08622397 0.38120865 0.05747635 0.60519003 0.95423576]\n",
      " [0.1995458  0.57120083 0.38771397 0.00647331 0.30784863]\n",
      " [0.78439844 0.90280702 0.69727107 0.33270014 0.8657816 ]\n",
      " [0.58786339 0.68613304 0.23674202 0.64928248 0.09668482]]\n"
     ]
    }
   ],
   "source": [
    "print(dataset.X)"
   ]
  },
  {
   "cell_type": "code",
   "execution_count": 28,
   "id": "3198df64",
   "metadata": {},
   "outputs": [
    {
     "name": "stdout",
     "output_type": "stream",
     "text": [
      "[[0.50134331]\n",
      " [0.63309814]\n",
      " [0.16663672]\n",
      " [0.61268194]]\n"
     ]
    }
   ],
   "source": [
    "print(dataset.y)"
   ]
  },
  {
   "cell_type": "markdown",
   "id": "25bf7b84",
   "metadata": {},
   "source": [
    "## Toxicity dataset in Molnet"
   ]
  },
  {
   "cell_type": "code",
   "execution_count": 29,
   "id": "eec02d4a",
   "metadata": {},
   "outputs": [],
   "source": [
    "tox21_tasks, tox21_datasets, transformers = dc.molnet.load_tox21()"
   ]
  },
  {
   "cell_type": "markdown",
   "id": "d2ee488e",
   "metadata": {},
   "source": [
    "## Model to Predict Toxicity of Molecules"
   ]
  },
  {
   "cell_type": "code",
   "execution_count": 30,
   "id": "9e1e698b",
   "metadata": {},
   "outputs": [
    {
     "data": {
      "text/plain": [
       "['NR-AR',\n",
       " 'NR-AR-LBD',\n",
       " 'NR-AhR',\n",
       " 'NR-Aromatase',\n",
       " 'NR-ER',\n",
       " 'NR-ER-LBD',\n",
       " 'NR-PPAR-gamma',\n",
       " 'SR-ARE',\n",
       " 'SR-ATAD5',\n",
       " 'SR-HSE',\n",
       " 'SR-MMP',\n",
       " 'SR-p53']"
      ]
     },
     "execution_count": 30,
     "metadata": {},
     "output_type": "execute_result"
    }
   ],
   "source": [
    "tox21_tasks"
   ]
  },
  {
   "cell_type": "code",
   "execution_count": 31,
   "id": "01c2656b",
   "metadata": {},
   "outputs": [
    {
     "data": {
      "text/plain": [
       "(<DiskDataset X.shape: (6264, 1024), y.shape: (6264, 12), w.shape: (6264, 12), task_names: ['NR-AR' 'NR-AR-LBD' 'NR-AhR' ... 'SR-HSE' 'SR-MMP' 'SR-p53']>,\n",
       " <DiskDataset X.shape: (783, 1024), y.shape: (783, 12), w.shape: (783, 12), ids: ['N#C[C@@H]1CC(F)(F)CN1C(=O)CNC1CC2CCC(C1)N2c1ncccn1'\n",
       "  'CN(C)C(=O)NC1(c2ccccc2)CCN(CCC[C@@]2(c3ccc(Cl)c(Cl)c3)CCCN(C(=O)c3ccccc3)C2)CC1'\n",
       "  'CSc1nnc(C(C)(C)C)c(=O)n1N' ...\n",
       "  'O=C(O[C@H]1CN2CCC1CC2)N1CCc2ccccc2[C@@H]1c1ccccc1'\n",
       "  'C#C[C@]1(O)CC[C@H]2[C@@H]3CCC4=CC(=O)CC[C@@H]4[C@H]3C(=C)C[C@@]21CC'\n",
       "  'NC(=O)C(c1ccccc1)(c1ccccc1)[C@@H]1CCN(CCc2ccc3c(c2)CCO3)C1'], task_names: ['NR-AR' 'NR-AR-LBD' 'NR-AhR' ... 'SR-HSE' 'SR-MMP' 'SR-p53']>,\n",
       " <DiskDataset X.shape: (784, 1024), y.shape: (784, 12), w.shape: (784, 12), ids: ['CC1(C)S[C@@H]2[C@H](NC(=O)Cc3ccccc3)C(=O)N2[C@H]1C(=O)O.CC1(C)S[C@@H]2[C@H](NC(=O)Cc3ccccc3)C(=O)N2[C@H]1C(=O)O.c1ccc(CNCCNCc2ccccc2)cc1'\n",
       "  'CC(C)(c1ccc(Oc2ccc3c(c2)C(=O)OC3=O)cc1)c1ccc(Oc2ccc3c(c2)C(=O)OC3=O)cc1'\n",
       "  'Cc1cc(C(C)(C)C)c(O)c(C)c1Cn1c(=O)n(Cc2c(C)cc(C(C)(C)C)c(O)c2C)c(=O)n(Cc2c(C)cc(C(C)(C)C)c(O)c2C)c1=O'\n",
       "  ... 'CN[C@@H]1C[C@@H](c2ccc(Cl)c(Cl)c2)c2ccccc21'\n",
       "  'Cl/C=C\\\\C[N+]12CN3CN(CN(C3)C1)C2'\n",
       "  'NC(=O)c1ccc[n+]([C@@H]2O[C@H](COP(=O)([O-])OP(=O)(O)OC[C@H]3O[C@@H](n4cnc5c(N)ncnc54)[C@H](O)[C@@H]3O)[C@@H](O)[C@H]2O)c1'], task_names: ['NR-AR' 'NR-AR-LBD' 'NR-AhR' ... 'SR-HSE' 'SR-MMP' 'SR-p53']>)"
      ]
     },
     "execution_count": 31,
     "metadata": {},
     "output_type": "execute_result"
    }
   ],
   "source": [
    "tox21_datasets"
   ]
  },
  {
   "cell_type": "code",
   "execution_count": 32,
   "id": "2839aceb",
   "metadata": {},
   "outputs": [
    {
     "data": {
      "text/plain": [
       "[<deepchem.trans.transformers.BalancingTransformer at 0x7f86a0c65130>]"
      ]
     },
     "execution_count": 32,
     "metadata": {},
     "output_type": "execute_result"
    }
   ],
   "source": [
    "transformers"
   ]
  },
  {
   "cell_type": "markdown",
   "id": "181ee841",
   "metadata": {},
   "source": [
    "## Split the data\n",
    "\n",
    "Each sample is a molecule\n",
    "\n",
    "Some labels are missing and must be ignored"
   ]
  },
  {
   "cell_type": "code",
   "execution_count": 33,
   "id": "c78df01e",
   "metadata": {},
   "outputs": [],
   "source": [
    "train_dataset, valid_dataset, test_dataset = tox21_datasets"
   ]
  },
  {
   "cell_type": "code",
   "execution_count": 34,
   "id": "972b008a",
   "metadata": {},
   "outputs": [
    {
     "name": "stdout",
     "output_type": "stream",
     "text": [
      "(6264, 1024)\n",
      "(6264, 12)\n"
     ]
    }
   ],
   "source": [
    "print(train_dataset.X.shape)\n",
    "print(train_dataset.y.shape)"
   ]
  },
  {
   "cell_type": "code",
   "execution_count": 35,
   "id": "e206ea31",
   "metadata": {},
   "outputs": [
    {
     "name": "stdout",
     "output_type": "stream",
     "text": [
      "(783, 1024)\n",
      "(783, 12)\n"
     ]
    }
   ],
   "source": [
    "print(valid_dataset.X.shape)\n",
    "print(valid_dataset.y.shape)"
   ]
  },
  {
   "cell_type": "code",
   "execution_count": 36,
   "id": "fc273112",
   "metadata": {},
   "outputs": [
    {
     "name": "stdout",
     "output_type": "stream",
     "text": [
      "(784, 1024)\n",
      "(784, 12)\n"
     ]
    }
   ],
   "source": [
    "print(test_dataset.X.shape)\n",
    "print(test_dataset.y.shape)"
   ]
  },
  {
   "cell_type": "markdown",
   "id": "b4e41d4b",
   "metadata": {},
   "source": [
    "## Model object"
   ]
  },
  {
   "cell_type": "code",
   "execution_count": 37,
   "id": "2f637b0e",
   "metadata": {},
   "outputs": [
    {
     "name": "stdout",
     "output_type": "stream",
     "text": [
      "<module 'deepchem.models' from '/Users/user/opt/anaconda3/envs/biologyML_py38/lib/python3.8/site-packages/deepchem/models/__init__.py'>\n"
     ]
    }
   ],
   "source": [
    "print(dc.models)"
   ]
  },
  {
   "cell_type": "code",
   "execution_count": 38,
   "id": "c29eb789",
   "metadata": {},
   "outputs": [],
   "source": [
    "\n",
    "model = dc.models.MultitaskClassifier(n_tasks=12, n_features=1024, layer_sizes =[1000])\n"
   ]
  },
  {
   "cell_type": "code",
   "execution_count": 39,
   "id": "2ebf0641",
   "metadata": {},
   "outputs": [
    {
     "data": {
      "text/plain": [
       "0.5014457066853841"
      ]
     },
     "execution_count": 39,
     "metadata": {},
     "output_type": "execute_result"
    }
   ],
   "source": [
    "\n",
    "model.fit(train_dataset, nb_epoch=10)\n"
   ]
  },
  {
   "cell_type": "code",
   "execution_count": 40,
   "id": "c3cf6a36",
   "metadata": {},
   "outputs": [],
   "source": [
    "metric = dc.metrics.Metric(dc.metrics.roc_auc_score, np.mean)"
   ]
  },
  {
   "cell_type": "code",
   "execution_count": 41,
   "id": "e7f9220c",
   "metadata": {},
   "outputs": [],
   "source": [
    "\n",
    "train_scores = model.evaluate(train_dataset, [metric], transformers)\n",
    "test_scores  = model.evaluate(test_dataset, [metric], transformers)\n"
   ]
  },
  {
   "cell_type": "code",
   "execution_count": 42,
   "id": "706fcd13",
   "metadata": {},
   "outputs": [
    {
     "name": "stdout",
     "output_type": "stream",
     "text": [
      "{'mean-roc_auc_score': 0.9582977329400478}\n"
     ]
    }
   ],
   "source": [
    "print(train_scores)"
   ]
  },
  {
   "cell_type": "code",
   "execution_count": 43,
   "id": "b919c934",
   "metadata": {},
   "outputs": [
    {
     "name": "stdout",
     "output_type": "stream",
     "text": [
      "{'mean-roc_auc_score': 0.681798455070547}\n"
     ]
    }
   ],
   "source": [
    "print(test_scores)"
   ]
  },
  {
   "cell_type": "code",
   "execution_count": null,
   "id": "71011c64",
   "metadata": {},
   "outputs": [],
   "source": []
  }
 ],
 "metadata": {
  "kernelspec": {
   "display_name": "Python 3 (ipykernel)",
   "language": "python",
   "name": "python3"
  },
  "language_info": {
   "codemirror_mode": {
    "name": "ipython",
    "version": 3
   },
   "file_extension": ".py",
   "mimetype": "text/x-python",
   "name": "python",
   "nbconvert_exporter": "python",
   "pygments_lexer": "ipython3",
   "version": "3.8.13"
  }
 },
 "nbformat": 4,
 "nbformat_minor": 5
}
