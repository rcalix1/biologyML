{
 "cells": [
  {
   "cell_type": "markdown",
   "id": "e8bfa642",
   "metadata": {},
   "source": [
    "## ML and Molecules"
   ]
  },
  {
   "cell_type": "code",
   "execution_count": 50,
   "id": "bfcc8c2d",
   "metadata": {},
   "outputs": [],
   "source": [
    "## !pip install --pre deepchem\n"
   ]
  },
  {
   "cell_type": "code",
   "execution_count": 51,
   "id": "4acbc336",
   "metadata": {},
   "outputs": [],
   "source": [
    "\n",
    "import torch\n",
    "import deepchem as dc\n",
    "import numpy as np\n",
    "\n",
    "from rdkit import Chem"
   ]
  },
  {
   "cell_type": "markdown",
   "id": "84bb1850",
   "metadata": {},
   "source": [
    "## Featurize Molecules"
   ]
  },
  {
   "cell_type": "code",
   "execution_count": 52,
   "id": "20f9c240",
   "metadata": {},
   "outputs": [],
   "source": [
    "\n",
    "smiles = ['C1CCCCC1', 'O1CCOCC1']   # cyclohexane and dioxane\n",
    "mols   = [Chem.MolFromSmiles(smile) for smile in smiles]\n",
    "feat = dc.feat.CircularFingerprint(size=1024)\n",
    "arr = feat.featurize(mols)\n",
    "\n"
   ]
  },
  {
   "cell_type": "code",
   "execution_count": 53,
   "id": "67434498",
   "metadata": {},
   "outputs": [
    {
     "data": {
      "text/plain": [
       "(2, 1024)"
      ]
     },
     "execution_count": 53,
     "metadata": {},
     "output_type": "execute_result"
    }
   ],
   "source": [
    "arr.shape"
   ]
  },
  {
   "cell_type": "markdown",
   "id": "7e947e3e",
   "metadata": {},
   "source": [
    "## Physiochemical featurization"
   ]
  },
  {
   "cell_type": "code",
   "execution_count": 54,
   "id": "20ce54eb",
   "metadata": {},
   "outputs": [],
   "source": [
    "\n",
    "feat = dc.feat.RDKitDescriptors()\n",
    "arr  = feat.featurize(mols)\n"
   ]
  },
  {
   "cell_type": "code",
   "execution_count": 55,
   "id": "0bb46b2c",
   "metadata": {},
   "outputs": [
    {
     "data": {
      "text/plain": [
       "(2, 208)"
      ]
     },
     "execution_count": 55,
     "metadata": {},
     "output_type": "execute_result"
    }
   ],
   "source": [
    "arr.shape"
   ]
  },
  {
   "cell_type": "markdown",
   "id": "3d29a110",
   "metadata": {},
   "source": [
    "## Training a model to predict solubility"
   ]
  },
  {
   "cell_type": "code",
   "execution_count": 56,
   "id": "5f6aa021",
   "metadata": {},
   "outputs": [],
   "source": [
    "\n",
    "## tasks, datasets, transformers = dc.molnet.load_delaney(featurizer='GraphConv')\n",
    "tasks, datasets, transformers = dc.molnet.load_delaney(featurizer=\"ECFP\", splitter=\"scaffold\")\n",
    "train_dataset, valid_dataset, test_dataset = datasets\n",
    "\n",
    "\n"
   ]
  },
  {
   "cell_type": "code",
   "execution_count": 57,
   "id": "546e59f5",
   "metadata": {},
   "outputs": [
    {
     "name": "stdout",
     "output_type": "stream",
     "text": [
      "(902, 1024)\n",
      "(902, 1)\n"
     ]
    }
   ],
   "source": [
    "print(train_dataset.X.shape)\n",
    "print(train_dataset.y.shape)"
   ]
  },
  {
   "cell_type": "code",
   "execution_count": 58,
   "id": "1d0b218c",
   "metadata": {},
   "outputs": [
    {
     "name": "stdout",
     "output_type": "stream",
     "text": [
      "(113, 1024)\n",
      "(113, 1)\n"
     ]
    }
   ],
   "source": [
    "print(valid_dataset.X.shape)\n",
    "print(valid_dataset.y.shape)"
   ]
  },
  {
   "cell_type": "code",
   "execution_count": 59,
   "id": "be8d3ebc",
   "metadata": {},
   "outputs": [
    {
     "name": "stdout",
     "output_type": "stream",
     "text": [
      "(113, 1024)\n",
      "(113, 1)\n"
     ]
    }
   ],
   "source": [
    "print(test_dataset.X.shape)\n",
    "print(test_dataset.y.shape)"
   ]
  },
  {
   "cell_type": "code",
   "execution_count": 60,
   "id": "8f76ef8c",
   "metadata": {},
   "outputs": [],
   "source": [
    "\n",
    "## the graph conv model (GraphConvModel) seems to be better\n",
    "## but currently only supported for tensorflow\n",
    "\n",
    "model = dc.models.MultitaskRegressor(n_tasks=1, n_features=1024, layer_sizes =[4000], dropout=0.5)\n",
    "\n"
   ]
  },
  {
   "cell_type": "code",
   "execution_count": 65,
   "id": "b17de8e2",
   "metadata": {},
   "outputs": [
    {
     "data": {
      "text/plain": [
       "0.02957241773605347"
      ]
     },
     "execution_count": 65,
     "metadata": {},
     "output_type": "execute_result"
    }
   ],
   "source": [
    "model.fit(train_dataset, nb_epoch=1000)"
   ]
  },
  {
   "cell_type": "code",
   "execution_count": 66,
   "id": "f675eee5",
   "metadata": {},
   "outputs": [],
   "source": [
    "metric = dc.metrics.Metric(dc.metrics.pearson_r2_score)"
   ]
  },
  {
   "cell_type": "code",
   "execution_count": 67,
   "id": "05f5a235",
   "metadata": {},
   "outputs": [
    {
     "name": "stdout",
     "output_type": "stream",
     "text": [
      "{'pearson_r2_score': 0.9774312806434012}\n",
      "{'pearson_r2_score': 0.3031890710094726}\n",
      "{'pearson_r2_score': 0.5043251356440803}\n"
     ]
    }
   ],
   "source": [
    "\n",
    "print(model.evaluate(train_dataset, [metric], transformers))\n",
    "print(model.evaluate(valid_dataset, [metric], transformers))\n",
    "print(model.evaluate(test_dataset, [metric], transformers))\n"
   ]
  },
  {
   "cell_type": "markdown",
   "id": "713c77d1",
   "metadata": {},
   "source": [
    "## Predict"
   ]
  },
  {
   "cell_type": "code",
   "execution_count": 71,
   "id": "7909f723",
   "metadata": {},
   "outputs": [],
   "source": [
    "\n",
    "mols = [Chem.MolFromSmiles(s) for s in smiles]\n",
    "featurizer = dc.feat.CircularFingerprint(size=1024)\n",
    "x = featurizer.featurize(mols)\n",
    "\n"
   ]
  },
  {
   "cell_type": "code",
   "execution_count": 72,
   "id": "d2ab189f",
   "metadata": {},
   "outputs": [],
   "source": [
    "\n",
    "predict_solubility = model.predict_on_batch(x)\n"
   ]
  },
  {
   "cell_type": "code",
   "execution_count": 73,
   "id": "f7bc4b6d",
   "metadata": {},
   "outputs": [
    {
     "name": "stdout",
     "output_type": "stream",
     "text": [
      "[[[-0.27176958]]\n",
      "\n",
      " [[ 0.7965225 ]]]\n"
     ]
    }
   ],
   "source": [
    "print(predict_solubility )"
   ]
  },
  {
   "cell_type": "code",
   "execution_count": null,
   "id": "6e23f774",
   "metadata": {},
   "outputs": [],
   "source": []
  }
 ],
 "metadata": {
  "kernelspec": {
   "display_name": "Python 3 (ipykernel)",
   "language": "python",
   "name": "python3"
  },
  "language_info": {
   "codemirror_mode": {
    "name": "ipython",
    "version": 3
   },
   "file_extension": ".py",
   "mimetype": "text/x-python",
   "name": "python",
   "nbconvert_exporter": "python",
   "pygments_lexer": "ipython3",
   "version": "3.8.13"
  }
 },
 "nbformat": 4,
 "nbformat_minor": 5
}
